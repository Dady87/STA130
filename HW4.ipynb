{
 "cells": [
  {
   "cell_type": "markdown",
   "id": "7450134c",
   "metadata": {},
   "source": [
    "1)"
   ]
  },
  {
   "cell_type": "markdown",
   "id": "c20b10ac",
   "metadata": {},
   "source": [
    "The standard deviation measures the spread in a set of data points. It is used to single dataset and describe the variability when that data.\n",
    "Standard error of the mean on the other hand measures how much variability there is in the sample. It tells how much the sample mean is expected to defer from the true population mean if multiple samples have been performed."
   ]
  },
  {
   "cell_type": "markdown",
   "id": "5421da49",
   "metadata": {},
   "source": [
    "2)"
   ]
  },
  {
   "cell_type": "markdown",
   "id": "a288c677",
   "metadata": {},
   "source": [
    "1.Calculate the mean of the sample\n",
    "2.Calculate the standard error of the mean\n",
    "3.Find the critical value\n",
    "4.Multiply SED by the critical value\n",
    "5.Add and subtract the margin of error form the sample mean"
   ]
  },
  {
   "cell_type": "markdown",
   "id": "ca28b38c",
   "metadata": {},
   "source": [
    "3)"
   ]
  },
  {
   "cell_type": "markdown",
   "id": "a4ac85b2",
   "metadata": {},
   "source": [
    "1)From the original dataset, generate a larger number of bootstrapped samples. \n",
    "2)For each bootstrapped sample, calculate the sample mean.\n",
    "3)Sort the bootstrapped mean in ascending order.\n",
    "4)Find values that correspond to the 2.5th percentile and the 97.5th percentile of the sorted bootstrapped means.\n",
    "5)The internal within the 2.5th and the 97.5th percentile is the 95% bootstrapped confidence interval."
   ]
  },
  {
   "cell_type": "markdown",
   "id": "7f8e6725",
   "metadata": {},
   "source": [
    "4)"
   ]
  },
  {
   "cell_type": "code",
   "execution_count": null,
   "id": "b904a95b",
   "metadata": {},
   "outputs": [],
   "source": [
    "import numpy as np\n",
    "\n",
    "# Sample data (you can replace this with your actual data)\n",
    "sample = np.array([12, 15, 14, 10, 13, 18, 17, 19, 14, 15])\n",
    "\n",
    "# Set the number of bootstrap resamples\n",
    "n_bootstraps = 1000\n",
    "\n",
    "# To store bootstrapped means\n",
    "bootstrap_means = []\n",
    "\n",
    "# Perform bootstrapping\n",
    "for _ in range(n_bootstraps):\n",
    "    # Create a bootstrapped sample by sampling with replacement from the original sample\n",
    "    bootstrap_sample = np.random.choice(sample, size=len(sample), replace=True)\n",
    "    \n",
    "    # Calculate the sample mean of the bootstrapped sample (change this for a different statistic)\n",
    "    bootstrap_means.append(np.mean(bootstrap_sample))\n",
    "\n",
    "# Sort the bootstrapped means\n",
    "bootstrap_means = np.sort(bootstrap_means)\n",
    "\n",
    "# Calculate the 2.5th percentile and the 97.5th percentile (for the 95% confidence interval)\n",
    "lower_bound = np.percentile(bootstrap_means, 2.5)\n",
    "upper_bound = np.percentile(bootstrap_means, 97.5)\n",
    "\n",
    "# Print the confidence interval for the mean\n",
    "print(f\"95% Bootstrap Confidence Interval for the Mean: ({lower_bound}, {upper_bound})\")\n",
    "\n",
    "# ---- How to Modify for a Different Population Parameter ----\n",
    "# If you want to calculate the confidence interval for a different population parameter, \n",
    "# such as the median, replace `np.mean(bootstrap_sample)` with the desired statistic.\n",
    "#\n",
    "# For example, for the median:\n",
    "# \n",
    "# bootstrap_medians = []\n",
    "# for _ in range(n_bootstraps):\n",
    "#     bootstrap_sample = np.random.choice(sample, size=len(sample), replace=True)\n",
    "#     bootstrap_medians.append(np.median(bootstrap_sample))  # Replace mean with median\n",
    "#\n",
    "# Then proceed with sorting the medians and calculating the percentiles in the same way:\n",
    "# bootstrap_medians = np.sort(bootstrap_medians)\n",
    "# lower_bound = np.percentile(bootstrap_medians, 2.5)\n",
    "# upper_bound = np.percentile(bootstrap_medians, 97.5)\n",
    "# print(f\"95% Bootstrap Confidence Interval for the Median: ({lower_bound}, {upper_bound})\")"
   ]
  },
  {
   "cell_type": "markdown",
   "id": "b282b9a1",
   "metadata": {},
   "source": [
    "https://chatgpt.com/share/66ff09be-da20-8009-8baf-c561e638a2b2"
   ]
  },
  {
   "cell_type": "markdown",
   "id": "b4867ab7",
   "metadata": {},
   "source": [
    "5）"
   ]
  },
  {
   "cell_type": "markdown",
   "id": "492142a7",
   "metadata": {},
   "source": [
    "Confidence intervals are based on sample statistics to produce the unknown population parameters. It provides a range of values for the parameter, based on sample data.\n",
    "Sample statistics are the best estimation from the data, while population parameter remains unknown. Confidence intervals use variability of sample statistics to show how confident we are that the population parameter lies in the calculated range."
   ]
  },
  {
   "cell_type": "markdown",
   "id": "69290ef1",
   "metadata": {},
   "source": [
    "6)"
   ]
  },
  {
   "cell_type": "markdown",
   "id": "7dd0eada",
   "metadata": {},
   "source": [
    "1.Bootstrapping is a trick in statistics. Let’s say we have a set of data, for example the age of a group of people, and now we want to have some insight on statistics like the average age. Instead of collecting more data, bootstrapping allows us to work with what we have. Here’s how it works. We randomly pick observations from it with replacement, which means we might pick some values more than once. We keep repeating this process to create many new resamples, then use these values to calculate statistics.\n",
    "\n",
    "2.The main purpose of bootstrapping is to get a better sense of uncertainty in our estimates when we don’t have sufficient data. It lets us create confidence intervals or test hypotheses about the population without the need to make too many assumptions.\n",
    "\n",
    "3.Let’s say I think the average age is 32, but we only have 30 people. We can use bootstrapping to test if my guess makes sense. Here’s what we can do:\n",
    "1）From the 50 data, create many new samples by resampling with replacement.\n",
    "2）For each of the resamples, find the average age.\n",
    "3）After doing this let’s say 1000 times, we’ll end up with a distribution of sample means\n",
    "Now look at that distribution and see if 32 lies somewhere in the middle of the range of possible means. If it is in the middle, then my guess is reasonable, if not, that means my guess isn’t plausible.\n"
   ]
  },
  {
   "cell_type": "markdown",
   "id": "ee4c4245",
   "metadata": {},
   "source": [
    "7）"
   ]
  },
  {
   "cell_type": "markdown",
   "id": "215208d9",
   "metadata": {},
   "source": [
    "The confidence interval gives a range of values where the true effect lies. If that range has a 0, it means that based on the data, the drug might not have an effect. 0 represents no effect. So even though the sample suggests there’s an effect, the confidence interval tells that with the level of uncertainty, it is possible that the true effect might be 0. \n",
    "In statistics, if you fail to reject the null hypothesis because the data doesn’t provide strong enough evidence to confidently say the drug actually does something. The interval around the sample mean is what helps us determine if the effect is real or not.\n",
    "\n",
    "If the confidence interval does not cover zero, that means there’s enough evidence to say that the drug has effects. So rejecting the null hypothesis happens when the confidence interval gives a range of values that exclude zero, which means that the drug's effect is likely to be real. "
   ]
  },
  {
   "cell_type": "markdown",
   "id": "a64f538e",
   "metadata": {},
   "source": [
    "8)"
   ]
  },
  {
   "cell_type": "code",
   "execution_count": null,
   "id": "dd1378e7",
   "metadata": {},
   "outputs": [],
   "source": [
    "import numpy as np\n",
    "import pandas as pd\n",
    "import matplotlib.pyplot as plt\n",
    "\n",
    "# Set random seed for reproducibility\n",
    "np.random.seed(42)\n",
    "\n",
    "# Load the data from a CSV file (ensure the file is correctly named and placed in your directory)\n",
    "data = pd.read_csv(\"alitech_vaccine_data.csv\")\n",
    "\n",
    "# Calculate health score change for each patient\n",
    "data['HealthChange'] = data['FinalHealthScore'] - data['InitialHealthScore']\n",
    "\n",
    "# Initial visualization: Scatter plot of initial vs final health scores\n",
    "plt.figure(figsize=(10, 6))\n",
    "plt.scatter(data['PatientID'], data['InitialHealthScore'], label='Initial Health Score', color='blue')\n",
    "plt.scatter(data['PatientID'], data['FinalHealthScore'], label='Final Health Score', color='green', marker='x')\n",
    "plt.xlabel('Patient ID')\n",
    "plt.ylabel('Health Score')\n",
    "plt.title('Initial vs Final Health Scores of Patients')\n",
    "plt.legend()\n",
    "plt.grid(True)\n",
    "plt.show()\n",
    "\n",
    "# Visualization: Distribution of health score changes\n",
    "plt.figure(figsize=(10, 6))\n",
    "plt.hist(data['HealthChange'], bins=5, color='purple', edgecolor='black')\n",
    "plt.xlabel('Health Score Change')\n",
    "plt.ylabel('Frequency')\n",
    "plt.title('Distribution of Health Score Changes')\n",
    "plt.grid(True)\n",
    "plt.show()\n",
    "\n",
    "# Quantitative Analysis: Bootstrapping Method\n",
    "\n",
    "# Number of bootstrap samples\n",
    "n_iterations = 1000\n",
    "\n",
    "# Array to store the mean health changes from each bootstrap sample\n",
    "bootstrap_means = []\n",
    "\n",
    "# Perform bootstrapping\n",
    "for _ in range(n_iterations):\n",
    "    # Sample the data with replacement\n",
    "    bootstrap_sample = data['HealthChange'].sample(n=len(data), replace=True)\n",
    "    # Compute the mean health change for the bootstrap sample\n",
    "    bootstrap_means.append(bootstrap_sample.mean())\n",
    "\n",
    "# Convert bootstrap means to a NumPy array for easier calculations\n",
    "bootstrap_means = np.array(bootstrap_means)\n",
    "\n",
    "# Calculate 95% confidence interval\n",
    "lower_bound = np.percentile(bootstrap_means, 2.5)\n",
    "upper_bound = np.percentile(bootstrap_means, 97.5)\n",
    "\n",
    "# Mean health score change from the original data\n",
    "mean_health_change = data['HealthChange'].mean()\n",
    "\n",
    "# Output the results\n",
    "print(f\"Mean Health Score Change: {mean_health_change:.2f}\")\n",
    "print(f\"95% Confidence Interval for Mean Health Score Change: [{lower_bound:.2f}, {upper_bound:.2f}]\")\n",
    "\n",
    "# Visualization: Bootstrap distribution of mean health score changes\n",
    "plt.figure(figsize=(10, 6))\n",
    "plt.hist(bootstrap_means, bins=30, color='orange', edgecolor='black')\n",
    "plt.axvline(x=mean_health_change, color='red', linestyle='--', label='Mean Health Change')\n",
    "plt.axvline(x=lower_bound, color='blue', linestyle='--', label='95% CI Lower Bound')\n",
    "plt.axvline(x=upper_bound, color='blue', linestyle='--', label='95% CI Upper Bound')\n",
    "plt.xlabel('Mean Health Score Change')\n",
    "plt.ylabel('Frequency')\n",
    "plt.title('Bootstrap Distribution of Mean Health Score Changes')\n",
    "plt.legend()\n",
    "plt.grid(True)\n",
    "plt.show()"
   ]
  },
  {
   "cell_type": "markdown",
   "id": "d8528e96",
   "metadata": {},
   "source": [
    "Methodology\n",
    "1)Compute the mean change in health score for the patients\n",
    "2)Use bootstrapping to generate a distribution of mean health score changes. This includes 3)resampling the data with replacement and calculating the mean change.\n",
    "4)Calculate the confidence interval for the mean change.\n",
    "5)Determine if the confidence interval includes zero. If it does, we fail to reject the null hypothesis, if not, we can conclude that the vaccine has an effect.\n",
    "\n",
    "Conclusion \n",
    "Based on the bootstrapping result, we can evaluate the vaccine’s effectiveness by examining whether the 95% confidence interval for the mean change in health scores has any zeros.\n",
    "If no zero, then the health score changes are statistically significant. If there are no zeros, we would fail to reject the null hypothesis, meaning that the data does not provide sufficient evidence that the vaccine has a significant impact on the patient."
   ]
  },
  {
   "cell_type": "markdown",
   "id": "9e8f227d",
   "metadata": {},
   "source": [
    "9) somewhat"
   ]
  }
 ],
 "metadata": {
  "kernelspec": {
   "display_name": "Python 3 (ipykernel)",
   "language": "python",
   "name": "python3"
  },
  "language_info": {
   "codemirror_mode": {
    "name": "ipython",
    "version": 3
   },
   "file_extension": ".py",
   "mimetype": "text/x-python",
   "name": "python",
   "nbconvert_exporter": "python",
   "pygments_lexer": "ipython3",
   "version": "3.11.6"
  }
 },
 "nbformat": 4,
 "nbformat_minor": 5
}
