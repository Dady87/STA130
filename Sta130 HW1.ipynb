{
 "cells": [
  {
   "cell_type": "markdown",
   "id": "7236855d",
   "metadata": {},
   "source": [
    "Q1"
   ]
  },
  {
   "cell_type": "code",
   "execution_count": 1,
   "id": "835b2c50",
   "metadata": {
    "scrolled": false
   },
   "outputs": [
    {
     "name": "stdout",
     "output_type": "stream",
     "text": [
      "Year             0\n",
      "Total            0\n",
      "Gas Fuel         0\n",
      "Liquid Fuel      0\n",
      "Solid Fuel       0\n",
      "Cement           0\n",
      "Gas Flaring      0\n",
      "Per Capita     199\n",
      "dtype: int64\n"
     ]
    }
   ],
   "source": [
    "import pandas as pd\n",
    "\n",
    "# Direct URL to the dataset (CSV)\n",
    "url = \"https://raw.githubusercontent.com/datasets/co2-fossil-global/master/global.csv\"\n",
    "\n",
    "# Load the dataset into a Pandas DataFrame\n",
    "co2_data = pd.read_csv(url)\n",
    "\n",
    "# Get the count of missing values in each column\n",
    "missing_data_counts = co2_data.isnull().sum()\n",
    "\n",
    "# Display the missing data counts\n",
    "print(missing_data_counts)"
   ]
  },
  {
   "cell_type": "markdown",
   "id": "82ea4332",
   "metadata": {},
   "source": [
    "Q2"
   ]
  },
  {
   "cell_type": "code",
   "execution_count": 2,
   "id": "8c87550d",
   "metadata": {},
   "outputs": [
    {
     "name": "stdout",
     "output_type": "stream",
     "text": [
      "The dataset has 260 rows and 8 columns.\n"
     ]
    }
   ],
   "source": [
    "import pandas as pd\n",
    "\n",
    "# Load the dataset from the provided URL\n",
    "url = 'https://raw.githubusercontent.com/datasets/co2-fossil-global/master/global.csv'\n",
    "co2_emission_data = pd.read_csv(url)\n",
    "\n",
    "# Get the shape of the DataFrame (number of rows and columns)\n",
    "data_shape = co2_emission_data.shape\n",
    "\n",
    "print(f\"The dataset has {data_shape[0]} rows and {data_shape[1]} columns.\")"
   ]
  },
  {
   "cell_type": "markdown",
   "id": "e5074f89",
   "metadata": {},
   "source": [
    "\"Observation\" is a single row of data in my dataset. It represents specific datas and records in the dataset, take my dataset as an example, CO2 emission of a region in a specifc year is a \"observation\".\n",
    "\n",
    "\"Variables\" is a single column of data in my dataset. It represents specific values or characteristics that is being measured or recorded. Forexample in my dataset a variable can be year, region, CO2 emission."
   ]
  },
  {
   "cell_type": "code",
   "execution_count": null,
   "id": "908a14b1",
   "metadata": {},
   "outputs": [],
   "source": [
    "Q3"
   ]
  },
  {
   "cell_type": "code",
   "execution_count": 3,
   "id": "64f7c033",
   "metadata": {
    "scrolled": true
   },
   "outputs": [
    {
     "name": "stdout",
     "output_type": "stream",
     "text": [
      "              Year        Total    Gas Fuel  Liquid Fuel   Solid Fuel  \\\n",
      "count   260.000000   260.000000   260.00000   260.000000   260.000000   \n",
      "mean   1880.500000  1402.788462   185.20000   495.819231   674.569231   \n",
      "std      75.199734  2253.098527   396.58556   934.308074   868.368580   \n",
      "min    1751.000000     3.000000     0.00000     0.000000     3.000000   \n",
      "25%    1815.750000    12.750000     0.00000     0.000000    12.750000   \n",
      "50%    1880.500000   239.500000     0.00000     3.000000   236.000000   \n",
      "75%    1945.250000  1385.000000    59.50000   279.250000  1023.500000   \n",
      "max    2010.000000  9167.000000  1702.00000  3122.000000  3842.000000   \n",
      "\n",
      "           Cement  Gas Flaring  Per Capita  \n",
      "count  260.000000   260.000000   61.000000  \n",
      "mean    34.161538    13.065385    1.054754  \n",
      "std     78.899604    26.311315    0.178630  \n",
      "min      0.000000     0.000000    0.640000  \n",
      "25%      0.000000     0.000000    0.940000  \n",
      "50%      0.000000     0.000000    1.120000  \n",
      "75%     12.000000     0.000000    1.170000  \n",
      "max    450.000000   110.000000    1.330000  \n",
      "Year\n",
      "1751    1\n",
      "1914    1\n",
      "1916    1\n",
      "1917    1\n",
      "1918    1\n",
      "       ..\n",
      "1842    1\n",
      "1843    1\n",
      "1844    1\n",
      "1845    1\n",
      "2010    1\n",
      "Name: count, Length: 260, dtype: int64\n"
     ]
    }
   ],
   "source": [
    "import pandas as pd\n",
    "\n",
    "# Load the dataset\n",
    "url = \"https://raw.githubusercontent.com/datasets/co2-fossil-global/master/global.csv\"\n",
    "df = pd.read_csv(url)\n",
    "\n",
    "# Summary statistics for numerical columns\n",
    "summary = df.describe()\n",
    "\n",
    "# Frequency count of unique values in a specific column (e.g., 'Year')\n",
    "value_counts = df['Year'].value_counts()\n",
    "\n",
    "# Display the results\n",
    "print(summary)\n",
    "print(value_counts)"
   ]
  },
  {
   "cell_type": "markdown",
   "id": "6876137e",
   "metadata": {},
   "source": [
    "Q4"
   ]
  },
  {
   "cell_type": "markdown",
   "id": "2ecf3243",
   "metadata": {},
   "source": [
    "df.shape gives out all the number of rows and columns no matter what type of data it is, it can be both numeric and non-numeric.\n",
    "\n",
    "df.describe() only provides numeric columns, non-numeric columns will not be included.\n",
    "\n",
    "df.shape reports the total number of rows even if rows have missing values. \n",
    "\n",
    "df.describe() on the other hand shows all the non-missing values for every numeric variable."
   ]
  },
  {
   "cell_type": "markdown",
   "id": "9d347b65",
   "metadata": {},
   "source": [
    "Q5"
   ]
  },
  {
   "cell_type": "markdown",
   "id": "72af7c66",
   "metadata": {},
   "source": [
    "Attribute is the characteristic of an object, it can read information from the object without the need of additional calculation.\n",
    "Method on the contrary will do some kind of calculation, it will take in a parameter, do some calculation and produce a new output.\n"
   ]
  },
  {
   "cell_type": "markdown",
   "id": "b455bd4a",
   "metadata": {},
   "source": [
    "Q6"
   ]
  },
  {
   "cell_type": "markdown",
   "id": "a4aaa46d",
   "metadata": {},
   "source": [
    "-Count is the number of columns with a value.\n",
    "-Mean is the average of the values in the column.\n",
    "-Standard deviation is the measurement of how spread out the values are from the mean.\n",
    "-Min is the smallest value in the column.\n",
    "-25% is the first quartile, it includes 25% of the data.\n",
    "-50% is the median of the data, which is the middle number when a list of numbers are ordered from smallest to greatest.\n",
    "-75% is the third quartile, 75% of the data will be in this quartile.\n",
    "-Max is the maximum value in the column."
   ]
  },
  {
   "cell_type": "markdown",
   "id": "3a25c569",
   "metadata": {},
   "source": [
    "Q7"
   ]
  },
  {
   "cell_type": "markdown",
   "id": "a6a8eb09",
   "metadata": {},
   "source": [
    "Q7)1)Scenario: I have a survey but people left some of the questions empty, so I want to delete those empty responses. \n",
    "\n",
    "df.dropna() will be the appropriate approach since it allows us to remove any rows with a missing value in a column, so that my complete response stays intact while all the incomplete response will be deleted.\n",
    "\n",
    "2)Scenario: One column of my survey have a huge number of missing data, so I want to delete this entire column since this column is not important to the survey. \n",
    "\n",
    "del df['col'] will be the best approach since it will delete the column while leaving grow rest of the columns untouched.\n",
    "\n",
    "3)Deleting columns with missing values simplifies the dataset, which ensures that the follow up operations will work flawlessly. After removing unnecessary columns, df.dropna() will then delete the remaining rows with missing value, makes the entire operation efficiently."
   ]
  },
  {
   "cell_type": "markdown",
   "id": "2ab8a0db",
   "metadata": {},
   "source": [
    "https://chatgpt.com/share/6e5bdac5-5be1-4172-9522-a91b7133e523"
   ]
  },
  {
   "cell_type": "code",
   "execution_count": 1,
   "id": "8d8cc2e2",
   "metadata": {},
   "outputs": [
    {
     "data": {
      "text/plain": [
       "((260, 8),\n",
       " (260, 7),\n",
       " Year             0\n",
       " Total            0\n",
       " Gas Fuel         0\n",
       " Liquid Fuel      0\n",
       " Solid Fuel       0\n",
       " Cement           0\n",
       " Gas Flaring      0\n",
       " Per Capita     199\n",
       " dtype: int64,\n",
       " Year           0\n",
       " Total          0\n",
       " Gas Fuel       0\n",
       " Liquid Fuel    0\n",
       " Solid Fuel     0\n",
       " Cement         0\n",
       " Gas Flaring    0\n",
       " dtype: int64)"
      ]
     },
     "execution_count": 1,
     "metadata": {},
     "output_type": "execute_result"
    }
   ],
   "source": [
    "import pandas as pd\n",
    "\n",
    "# Load the dataset\n",
    "url = \"https://raw.githubusercontent.com/datasets/co2-fossil-global/master/global.csv\"\n",
    "df = pd.read_csv(url)\n",
    "\n",
    "# Before cleaning\n",
    "initial_shape = df.shape\n",
    "missing_data = df.isnull().sum()\n",
    "\n",
    "# Step 1: Delete columns with more than 50% missing values\n",
    "threshold = len(df) * 0.5\n",
    "df_cleaned = df.dropna(axis=1, thresh=threshold)\n",
    "\n",
    "# Step 2: Drop rows with any remaining missing values\n",
    "df_cleaned = df_cleaned.dropna()\n",
    "\n",
    "# After cleaning\n",
    "final_shape = df_cleaned.shape\n",
    "remaining_missing_data = df_cleaned.isnull().sum()\n",
    "\n",
    "initial_shape, final_shape, missing_data, remaining_missing_data"
   ]
  },
  {
   "cell_type": "markdown",
   "id": "6bd86ec0",
   "metadata": {},
   "source": [
    "Justification: \n",
    "Step1: Colums with over 50% missing value will be considered unreliable, so it will be deleted\n",
    "Step2: Remaining rows with missing values will then be deleted by df.dropna()\n",
    "\n",
    "Before and after:\n",
    "The dataset initially have rows and columns with missing values.\n",
    "After cleaning, all missing data has been deleted."
   ]
  },
  {
   "cell_type": "markdown",
   "id": "9371a1aa",
   "metadata": {},
   "source": [
    "Q8"
   ]
  },
  {
   "cell_type": "code",
   "execution_count": null,
   "id": "128f8922",
   "metadata": {},
   "outputs": [],
   "source": []
  }
 ],
 "metadata": {
  "kernelspec": {
   "display_name": "Python 3 (ipykernel)",
   "language": "python",
   "name": "python3"
  },
  "language_info": {
   "codemirror_mode": {
    "name": "ipython",
    "version": 3
   },
   "file_extension": ".py",
   "mimetype": "text/x-python",
   "name": "python",
   "nbconvert_exporter": "python",
   "pygments_lexer": "ipython3",
   "version": "3.11.6"
  }
 },
 "nbformat": 4,
 "nbformat_minor": 5
}
